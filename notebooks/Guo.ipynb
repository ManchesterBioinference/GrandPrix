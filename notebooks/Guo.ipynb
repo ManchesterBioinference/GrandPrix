{
 "cells": [
  {
   "cell_type": "markdown",
   "metadata": {},
   "source": [
    "# Applying GrandPrix on single-cell qPCR data of early developmental stages in mouse\n",
    "_Sumon Ahmed_, 2017\n",
    "\n",
    "This notebooks describes the flexible architecture of the GrandPrix by extending it to 2-D latent spaces. Models with both informative and non-informative priors are examined."
   ]
  },
  {
   "cell_type": "code",
   "execution_count": 1,
   "metadata": {
    "collapsed": false
   },
   "outputs": [],
   "source": [
    "import pandas as pd\n",
    "import numpy as np\n",
    "from GrandPrix import GrandPrix"
   ]
  },
  {
   "cell_type": "markdown",
   "metadata": {},
   "source": [
    "## Helper function\n",
    "\n",
    "__MapTo01__ converts everything between [0,1]"
   ]
  },
  {
   "cell_type": "code",
   "execution_count": 2,
   "metadata": {
    "collapsed": true
   },
   "outputs": [],
   "source": [
    "def MapTo01(y):\n",
    "    return (y.copy() - y.min(0)) / (y.max(0) - y.min(0))"
   ]
  },
  {
   "cell_type": "markdown",
   "metadata": {},
   "source": [
    "## Data description\n",
    "\n",
    "<a href=\"https://www.ncbi.nlm.nih.gov/pubmed/20412781\" target=\"_blank\">Guo et al. (2010)</a> generated gene expression profiles of 48 genes measured across 437 cells. Cells differentiate from the single cell stage into three different cell states in the 64 cell stage: trophectoderm (TE), epiblast (EPI), and primitive endoderm (PE).\n",
    "\n",
    "The \"GuoTrainingData.csv\" file contains the expression profiles of this dataset."
   ]
  },
  {
   "cell_type": "code",
   "execution_count": 3,
   "metadata": {
    "collapsed": false
   },
   "outputs": [],
   "source": [
    "Y = pd.read_csv('../data/Guo/GuoTrainingData.csv', index_col=[0])"
   ]
  },
  {
   "cell_type": "code",
   "execution_count": 4,
   "metadata": {
    "collapsed": false
   },
   "outputs": [
    {
     "name": "stdout",
     "output_type": "stream",
     "text": [
      "Cells: 437, Genes: 48\n"
     ]
    }
   ],
   "source": [
    "N, D = Y.shape\n",
    "print('Cells: %s, Genes: %s'%(N, D))"
   ]
  },
  {
   "cell_type": "markdown",
   "metadata": {},
   "source": [
    "## Extending the model to 2-D space\n",
    "\n",
    "We demonstrated the importance of this additional flexibility using a two-dimensional latent space where pseudotime is estimated jointly with the developmental branching structure."
   ]
  },
  {
   "cell_type": "code",
   "execution_count": 5,
   "metadata": {
    "collapsed": true
   },
   "outputs": [],
   "source": [
    "latent_dims = 2\n",
    "M = 40 # Number of inducing points"
   ]
  },
  {
   "cell_type": "markdown",
   "metadata": {},
   "source": [
    "## Model with Informative prior\n",
    "\n",
    "Capture time points have been used as the informative prior information over pseudotime. Following arguments have been passed to initialize the model.\n",
    "\n",
    "<!--\n",
    "-  __data__: _array-like, shape N x D_. Observed data, where N is the number of time points and D is the number of genes.\n",
    "-  __latent_prior_mean__: _array-like, shape N_ x 1, _optional (default:_ __0__). > Mean of the prior distribution over pseudotime.\n",
    "-  __latent_prior_var__: _array-like, shape N_ x 1, _optional (default:_ __1.__). Variance of the prior distribution over pseudotime.\n",
    "-  __latent_mean__: _array-like, shape N_ x 1, _optional (default:_ __1.__). Initial mean values of the approximate posterior distribution over pseudotime.\n",
    "-  __latent_var__: _array-like, shape N_ x 1, _optional (default:_ __1.__). Initial variance of the approximate posterior distribution over pseudotime.\n",
    "- __kernel:__ _optional (default: RBF kernel with lengthscale and variance set to 1.0)_. Covariance function to define the mapping from the latent space to the data space in Gaussian process prior.\n",
    "-->\n",
    "-  __data__: _array-like, shape N x D_. Observed data, where N is the number of time points and D is the number of genes.\n",
    "\n",
    "\n",
    "-  __n_latent_dims__: _int_. Number of latent dimentions to compute.\n",
    "\n",
    "\n",
    "-  __n_inducing_points__: _int_. Number of inducing points.\n",
    "\n",
    "\n",
    "-  __latent_prior_mean__: _array-like, shape N_ x 1. Mean of the prior distribution over pseudotime.\n",
    "\n",
    "\n",
    "-  __latent_prior_var__: _array-like, shape N_ x 1. Variance of the prior distribution over pseudotime.\n",
    "\n",
    "<!--\n",
    "-  __latent_mean__: _array-like, shape N_ x 1. Initial mean values of the approximate posterior distribution over pseudotime.\n",
    "-->\n",
    "\n",
    "-  __latent_var__: _array-like, shape N_ x 1. Initial variance of the approximate posterior distribution over pseudotime.\n",
    "\n",
    "<!--\n",
    "- __kernel:__. Covariance function to define the mapping from the latent space to the data space in Gaussian process prior.\n",
    "\n",
    "\n",
    "-  __inducing_inputs__: _array-like, shape_ _n_\\__inducing_\\__points_ x 1. Inducing input variables in the space of latent variables. \n",
    "-->"
   ]
  },
  {
   "cell_type": "code",
   "execution_count": null,
   "metadata": {
    "collapsed": true
   },
   "outputs": [],
   "source": [
    "ct = np.zeros(N)\n",
    "for il, l in enumerate(Y.index):\n",
    "    s = l.split(' ')\n",
    "    ct[il] = int(s[0])\n",
    "prior_mean = np.zeros((N, latent_dims))\n",
    "prior_mean[:, 0] = MapTo01(ct) \n",
    "prior_var = .1\n",
    "X_var = 0.028"
   ]
  },
  {
   "cell_type": "code",
   "execution_count": null,
   "metadata": {
    "collapsed": false
   },
   "outputs": [],
   "source": [
    "np.random.seed(10)\n",
    "pt_wp, var_wp = GrandPrix.fit_model(data=Y.values, n_latent_dims=latent_dims, n_inducing_points=M,\n",
    "               latent_prior_mean=prior_mean, latent_prior_var=prior_var, latent_var=X_var)"
   ]
  },
  {
   "cell_type": "markdown",
   "metadata": {},
   "source": [
    "## Model without using Informative prior\n",
    "<!--\n",
    "-  Only observed data points have been used.\n",
    "-->"
   ]
  },
  {
   "cell_type": "code",
   "execution_count": null,
   "metadata": {
    "collapsed": false
   },
   "outputs": [],
   "source": [
    "np.random.seed(10)\n",
    "pt_np, var_np = GrandPrix.fit_model(data=Y.values, n_latent_dims=latent_dims, n_inducing_points = M, latent_var=X_var)"
   ]
  },
  {
   "cell_type": "markdown",
   "metadata": {},
   "source": [
    "# 2-D Visualization\n",
    "The informative prior on capture time helps with the identifiability of the model as it aligns the first latent dimension (horizontal axis) with pseudotime and the second latent dimension (vertical axis) with the branching structure."
   ]
  },
  {
   "cell_type": "code",
   "execution_count": null,
   "metadata": {
    "collapsed": false
   },
   "outputs": [],
   "source": [
    "%matplotlib inline\n",
    "from matplotlib import pyplot as plt\n",
    "from utils import plot_XY"
   ]
  },
  {
   "cell_type": "code",
   "execution_count": null,
   "metadata": {
    "collapsed": false
   },
   "outputs": [],
   "source": [
    "fig, ax = plt.subplots(nrows=1, ncols=2, sharey=True, figsize=(16, 16))\n",
    "plt.subplot(2, 2, 1)\n",
    "plot_XY(pt_np[:,0], pt_np[:,1], 'No prior', Y.index)\n",
    "plt.subplot(2, 2, 2)\n",
    "plot_XY(pt_wp[:,0], pt_wp[:,1], 'With prior', Y.index)"
   ]
  },
  {
   "cell_type": "markdown",
   "metadata": {},
   "source": [
    "## 1-D optimization\n",
    "The 1-D pseudotime model with informative prior."
   ]
  },
  {
   "cell_type": "code",
   "execution_count": null,
   "metadata": {
    "collapsed": false
   },
   "outputs": [],
   "source": [
    "prior_mean_1D = prior_mean[:,0][:,None]"
   ]
  },
  {
   "cell_type": "code",
   "execution_count": null,
   "metadata": {
    "collapsed": false
   },
   "outputs": [],
   "source": [
    "np.random.seed(10)\n",
    "pt_wp_1D, var_wp_1D = GrandPrix.fit_model(data=Y.values, n_inducing_points=30,\n",
    "               latent_prior_mean=prior_mean_1D, latent_prior_var=prior_var, latent_var=X_var)"
   ]
  },
  {
   "cell_type": "markdown",
   "metadata": {},
   "source": [
    "## Comparison to the actual capture time\n",
    "The 2-D model estimate of the pseudotime is found to have better correspondence with the actual capture time (correlation 0.84 vs 0.95), suggesting that the 1-D model is less able to align all variation with a pseudotime axis."
   ]
  },
  {
   "cell_type": "code",
   "execution_count": null,
   "metadata": {
    "collapsed": false
   },
   "outputs": [],
   "source": [
    "from utils import plotcorrelation\n",
    "fig, ax = plt.subplots(nrows=1, ncols=2, sharey=True, figsize=(16, 16))\n",
    "plt.subplot(2, 2, 1)\n",
    "plotcorrelation(pt_wp_1D[:, 0], ct, 'No prior', Y.index)\n",
    "plt.subplot(2, 2, 2)\n",
    "plotcorrelation(pt_wp[:, 0], ct, 'With prior', Y.index)"
   ]
  },
  {
   "cell_type": "markdown",
   "metadata": {},
   "source": [
    "## Plot marker genes\n",
    "* _Id2_ - a known marker gene for TE, thus it behaves differently in TE cells from the other two differentiation stages.\n",
    "* _Gata4_ - Gata4 is differentially expressed between the stages (PE and EPI) and between the stages (TE and PE)."
   ]
  },
  {
   "cell_type": "code",
   "execution_count": null,
   "metadata": {
    "collapsed": false
   },
   "outputs": [],
   "source": [
    "fig, ax = plt.subplots(nrows=1, ncols=2, sharey=True, figsize=(16, 16))\n",
    "plt.subplot(2, 2, 1)\n",
    "plot_XY(pt_wp[:,0], -Y['Id2'], 'Id2', Y.index, ylabel='Expression')\n",
    "plt.subplot(2, 2, 2)\n",
    "plot_XY(pt_wp[:,0], -Y['Gata4'], 'Gata4', Y.index, ylabel='Expression')"
   ]
  },
  {
   "cell_type": "markdown",
   "metadata": {},
   "source": [
    "##  Expression profiles of the top 10 differentially expressed genes between the stages TE and EPI"
   ]
  },
  {
   "cell_type": "code",
   "execution_count": null,
   "metadata": {
    "collapsed": false
   },
   "outputs": [],
   "source": [
    "genes_TE_EPI = ['Id2', 'Fgf4', 'Bmp4', 'Pecam1', 'Sox2', 'DppaI', 'Fn1', 'Klf4', 'Fgfr2', 'Tspan8']\n",
    "fig, ax = plt.subplots(nrows=2, ncols=5, sharex=True, sharey=True, figsize=(30, 12))\n",
    "fig.subplots_adjust(wspace=0)\n",
    "fig.text(0.5, 0.08, 'Pseudotime (2-D model)', ha='center', va='center', fontsize=30)\n",
    "g = 0\n",
    "for row in ax:\n",
    "    for col in row:\n",
    "        plt.subplot(2, 5, g + 1)\n",
    "        plot_XY(pt_wp[:,0], -Y[genes_TE_EPI[g]], genes_TE_EPI[g], Y.index, xlabel='', ylabel='')\n",
    "        g = g + 1"
   ]
  },
  {
   "cell_type": "markdown",
   "metadata": {},
   "source": [
    "##  Expression profiles of the top 10 differentially expressed genes between the stages PE and EPI"
   ]
  },
  {
   "cell_type": "code",
   "execution_count": null,
   "metadata": {
    "collapsed": false
   },
   "outputs": [],
   "source": [
    "genes_PE_EPI = ['Fgf4', 'Runx1', 'Fgfr2', 'Gata6', 'Pdgfra', 'Klf2', 'Bmp4', 'Gata4', 'Nanog', 'Sox2']\n",
    "fig, ax = plt.subplots(nrows=2, ncols=5, sharex=True, sharey=True, figsize=(30, 12))\n",
    "fig.subplots_adjust(wspace=0)\n",
    "fig.text(0.5, 0.08, 'Pseudotime (2-D model)', ha='center', va='center', fontsize=30)\n",
    "# fig.text(0.1, 0.5, 'Gene Expression', ha='center', va='center', rotation='vertical', fontsize=12)\n",
    "g = 0\n",
    "for row in ax:\n",
    "    for col in row:\n",
    "        plt.subplot(2, 5, g + 1)\n",
    "        plot_XY(pt_wp[:,0], -Y[genes_PE_EPI[g]], genes_PE_EPI[g], Y.index, xlabel='', ylabel='')\n",
    "        g = g + 1"
   ]
  },
  {
   "cell_type": "markdown",
   "metadata": {},
   "source": [
    "##  Expression profiles of the top 10 differentially expressed genes between the stages TE and PE"
   ]
  },
  {
   "cell_type": "code",
   "execution_count": null,
   "metadata": {
    "collapsed": false
   },
   "outputs": [],
   "source": [
    "genes_TE_PE = ['Pdgfra', 'Id2', 'Gata4', 'DppaI', 'Tspan8', 'Atp12a', 'Atp12a', 'Fn1', 'Creb312', 'Runx1']\n",
    "fig, ax = plt.subplots(nrows=2, ncols=5, sharex=True, sharey=True, figsize=(30, 12))\n",
    "fig.subplots_adjust(wspace=0)\n",
    "fig.text(0.5, 0.08, 'Pseudotime (2-D model)', ha='center', va='center', fontsize=30)\n",
    "g = 0\n",
    "for row in ax:\n",
    "    for col in row:\n",
    "        plt.subplot(2, 5, g + 1)\n",
    "        plot_XY(pt_wp[:,0], -Y[genes_TE_PE[g]], genes_TE_PE[g], Y.index, xlabel='', ylabel='')\n",
    "        g = g + 1"
   ]
  }
 ],
 "metadata": {
  "anaconda-cloud": {},
  "kernelspec": {
   "display_name": "Python [conda env:tensor_15]",
   "language": "python",
   "name": "conda-env-tensor_15-py"
  },
  "language_info": {
   "codemirror_mode": {
    "name": "ipython",
    "version": 3
   },
   "file_extension": ".py",
   "mimetype": "text/x-python",
   "name": "python",
   "nbconvert_exporter": "python",
   "pygments_lexer": "ipython3",
   "version": "3.5.4"
  }
 },
 "nbformat": 4,
 "nbformat_minor": 1
}
