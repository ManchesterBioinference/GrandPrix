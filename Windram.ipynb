{
 "cells": [
  {
   "cell_type": "markdown",
   "metadata": {},
   "source": [
    "<!--# GrandPrix: Scaling up the Bayesian GPLVM with informative prior-->\n",
    "# Applying GrandPrix to the *Arabidopis thaliana* microarray data\n",
    "_Sumon Ahmed_, 2017\n",
    "\n",
    "<!--The sparse variational inference of the Bayesian GPLVM allows the computation of an exact lower bound of the marginal log likelihood $\\log p(Y|\\theta)$ by variationaly integrating out the input/latent variables of the GP. \n",
    "-->\n",
    "This notebooks depicts how GrandPrix with informative prior over the latent space can be used to infer one dimensional pseudotime from microarray data.   "
   ]
  },
  {
   "cell_type": "code",
   "execution_count": 1,
   "metadata": {
    "collapsed": false
   },
   "outputs": [
    {
     "ename": "KeyError",
     "evalue": "'Unrecognized key \"axes.color_cycle\" for group \"axes\" and name \"color_cycle\"'",
     "output_type": "error",
     "traceback": [
      "\u001b[0;31m---------------------------------------------------------------------------\u001b[0m",
      "\u001b[0;31mKeyError\u001b[0m                                  Traceback (most recent call last)",
      "\u001b[0;32m~/anaconda3/envs/tensor_13/lib/python3.5/site-packages/matplotlib/__init__.py\u001b[0m in \u001b[0;36m__setitem__\u001b[0;34m(self, key, val)\u001b[0m\n\u001b[1;32m    921\u001b[0m             \u001b[0;32mtry\u001b[0m\u001b[0;34m:\u001b[0m\u001b[0;34m\u001b[0m\u001b[0m\n\u001b[0;32m--> 922\u001b[0;31m                 \u001b[0mcval\u001b[0m \u001b[0;34m=\u001b[0m \u001b[0mself\u001b[0m\u001b[0;34m.\u001b[0m\u001b[0mvalidate\u001b[0m\u001b[0;34m[\u001b[0m\u001b[0mkey\u001b[0m\u001b[0;34m]\u001b[0m\u001b[0;34m(\u001b[0m\u001b[0mval\u001b[0m\u001b[0;34m)\u001b[0m\u001b[0;34m\u001b[0m\u001b[0m\n\u001b[0m\u001b[1;32m    923\u001b[0m             \u001b[0;32mexcept\u001b[0m \u001b[0mValueError\u001b[0m \u001b[0;32mas\u001b[0m \u001b[0mve\u001b[0m\u001b[0;34m:\u001b[0m\u001b[0;34m\u001b[0m\u001b[0m\n",
      "\u001b[0;31mKeyError\u001b[0m: 'axes.color_cycle'",
      "\nDuring handling of the above exception, another exception occurred:\n",
      "\u001b[0;31mKeyError\u001b[0m                                  Traceback (most recent call last)",
      "\u001b[0;32m~/anaconda3/envs/tensor_13/lib/python3.5/site-packages/matplotlib/__init__.py\u001b[0m in \u001b[0;36mrc\u001b[0;34m(group, **kwargs)\u001b[0m\n\u001b[1;32m   1262\u001b[0m             \u001b[0;32mtry\u001b[0m\u001b[0;34m:\u001b[0m\u001b[0;34m\u001b[0m\u001b[0m\n\u001b[0;32m-> 1263\u001b[0;31m                 \u001b[0mrcParams\u001b[0m\u001b[0;34m[\u001b[0m\u001b[0mkey\u001b[0m\u001b[0;34m]\u001b[0m \u001b[0;34m=\u001b[0m \u001b[0mv\u001b[0m\u001b[0;34m\u001b[0m\u001b[0m\n\u001b[0m\u001b[1;32m   1264\u001b[0m             \u001b[0;32mexcept\u001b[0m \u001b[0mKeyError\u001b[0m\u001b[0;34m:\u001b[0m\u001b[0;34m\u001b[0m\u001b[0m\n",
      "\u001b[0;32m~/anaconda3/envs/tensor_13/lib/python3.5/site-packages/matplotlib/__init__.py\u001b[0m in \u001b[0;36m__setitem__\u001b[0;34m(self, key, val)\u001b[0m\n\u001b[1;32m    928\u001b[0m                 \u001b[0;34m'%s is not a valid rc parameter. See rcParams.keys() for a '\u001b[0m\u001b[0;34m\u001b[0m\u001b[0m\n\u001b[0;32m--> 929\u001b[0;31m                 'list of valid parameters.' % (key,))\n\u001b[0m\u001b[1;32m    930\u001b[0m \u001b[0;34m\u001b[0m\u001b[0m\n",
      "\u001b[0;31mKeyError\u001b[0m: 'axes.color_cycle is not a valid rc parameter. See rcParams.keys() for a list of valid parameters.'",
      "\nDuring handling of the above exception, another exception occurred:\n",
      "\u001b[0;31mKeyError\u001b[0m                                  Traceback (most recent call last)",
      "\u001b[0;32m<ipython-input-1-d24387cfb937>\u001b[0m in \u001b[0;36m<module>\u001b[0;34m()\u001b[0m\n\u001b[1;32m      3\u001b[0m \u001b[0;32mimport\u001b[0m \u001b[0mnumpy\u001b[0m \u001b[0;32mas\u001b[0m \u001b[0mnp\u001b[0m\u001b[0;34m\u001b[0m\u001b[0m\n\u001b[1;32m      4\u001b[0m \u001b[0;32mfrom\u001b[0m \u001b[0mGrandPrix\u001b[0m \u001b[0;32mimport\u001b[0m \u001b[0mGrandPrix\u001b[0m\u001b[0;34m\u001b[0m\u001b[0m\n\u001b[0;32m----> 5\u001b[0;31m \u001b[0;32mfrom\u001b[0m \u001b[0mutils\u001b[0m \u001b[0;32mimport\u001b[0m \u001b[0mplot\u001b[0m\u001b[0;34m,\u001b[0m \u001b[0mplot_comparison\u001b[0m\u001b[0;34m,\u001b[0m \u001b[0mcalcroughness\u001b[0m\u001b[0;34m\u001b[0m\u001b[0m\n\u001b[0m",
      "\u001b[0;32m~/bla/GrandPrix/utils.py\u001b[0m in \u001b[0;36m<module>\u001b[0;34m()\u001b[0m\n\u001b[1;32m     11\u001b[0m \u001b[0mmatplotlib\u001b[0m\u001b[0;34m.\u001b[0m\u001b[0mrcParams\u001b[0m\u001b[0;34m[\u001b[0m\u001b[0;34m'axes.facecolor'\u001b[0m\u001b[0;34m]\u001b[0m \u001b[0;34m=\u001b[0m \u001b[0;34m'white'\u001b[0m\u001b[0;34m\u001b[0m\u001b[0m\n\u001b[1;32m     12\u001b[0m \u001b[0mmatplotlib\u001b[0m\u001b[0;34m.\u001b[0m\u001b[0mrcParams\u001b[0m\u001b[0;34m[\u001b[0m\u001b[0;34m'axes.edgecolor'\u001b[0m\u001b[0;34m]\u001b[0m \u001b[0;34m=\u001b[0m \u001b[0;34m'black'\u001b[0m\u001b[0;34m\u001b[0m\u001b[0m\n\u001b[0;32m---> 13\u001b[0;31m \u001b[0mplt\u001b[0m\u001b[0;34m.\u001b[0m\u001b[0mrc\u001b[0m\u001b[0;34m(\u001b[0m\u001b[0;34m'axes'\u001b[0m\u001b[0;34m,\u001b[0m \u001b[0mcolor_cycle\u001b[0m\u001b[0;34m=\u001b[0m\u001b[0;34m[\u001b[0m\u001b[0;34m'royalblue'\u001b[0m\u001b[0;34m,\u001b[0m \u001b[0;34m'orange'\u001b[0m\u001b[0;34m,\u001b[0m \u001b[0;34m'green'\u001b[0m\u001b[0;34m,\u001b[0m \u001b[0;34m'red'\u001b[0m\u001b[0;34m,\u001b[0m \u001b[0;34m'blueviolet'\u001b[0m\u001b[0;34m,\u001b[0m \u001b[0;34m'sienna'\u001b[0m\u001b[0;34m,\u001b[0m \u001b[0;34m'hotpink'\u001b[0m\u001b[0;34m,\u001b[0m \u001b[0;34m'gray'\u001b[0m\u001b[0;34m,\u001b[0m \u001b[0;34m'y'\u001b[0m\u001b[0;34m,\u001b[0m \u001b[0;34m'c'\u001b[0m\u001b[0;34m]\u001b[0m\u001b[0;34m)\u001b[0m\u001b[0;34m\u001b[0m\u001b[0m\n\u001b[0m\u001b[1;32m     14\u001b[0m \u001b[0;34m\u001b[0m\u001b[0m\n\u001b[1;32m     15\u001b[0m \u001b[0;32mdef\u001b[0m \u001b[0mcalcroughness\u001b[0m\u001b[0;34m(\u001b[0m\u001b[0mx\u001b[0m\u001b[0;34m,\u001b[0m \u001b[0mpt\u001b[0m\u001b[0;34m)\u001b[0m\u001b[0;34m:\u001b[0m\u001b[0;34m\u001b[0m\u001b[0m\n",
      "\u001b[0;32m~/anaconda3/envs/tensor_13/lib/python3.5/site-packages/matplotlib/pyplot.py\u001b[0m in \u001b[0;36mrc\u001b[0;34m(*args, **kwargs)\u001b[0m\n\u001b[1;32m    301\u001b[0m \u001b[0;34m@\u001b[0m\u001b[0mdocstring\u001b[0m\u001b[0;34m.\u001b[0m\u001b[0mcopy_dedent\u001b[0m\u001b[0;34m(\u001b[0m\u001b[0mmatplotlib\u001b[0m\u001b[0;34m.\u001b[0m\u001b[0mrc\u001b[0m\u001b[0;34m)\u001b[0m\u001b[0;34m\u001b[0m\u001b[0m\n\u001b[1;32m    302\u001b[0m \u001b[0;32mdef\u001b[0m \u001b[0mrc\u001b[0m\u001b[0;34m(\u001b[0m\u001b[0;34m*\u001b[0m\u001b[0margs\u001b[0m\u001b[0;34m,\u001b[0m \u001b[0;34m**\u001b[0m\u001b[0mkwargs\u001b[0m\u001b[0;34m)\u001b[0m\u001b[0;34m:\u001b[0m\u001b[0;34m\u001b[0m\u001b[0m\n\u001b[0;32m--> 303\u001b[0;31m     \u001b[0mmatplotlib\u001b[0m\u001b[0;34m.\u001b[0m\u001b[0mrc\u001b[0m\u001b[0;34m(\u001b[0m\u001b[0;34m*\u001b[0m\u001b[0margs\u001b[0m\u001b[0;34m,\u001b[0m \u001b[0;34m**\u001b[0m\u001b[0mkwargs\u001b[0m\u001b[0;34m)\u001b[0m\u001b[0;34m\u001b[0m\u001b[0m\n\u001b[0m\u001b[1;32m    304\u001b[0m \u001b[0;34m\u001b[0m\u001b[0m\n\u001b[1;32m    305\u001b[0m \u001b[0;34m\u001b[0m\u001b[0m\n",
      "\u001b[0;32m~/anaconda3/envs/tensor_13/lib/python3.5/site-packages/matplotlib/__init__.py\u001b[0m in \u001b[0;36mrc\u001b[0;34m(group, **kwargs)\u001b[0m\n\u001b[1;32m   1264\u001b[0m             \u001b[0;32mexcept\u001b[0m \u001b[0mKeyError\u001b[0m\u001b[0;34m:\u001b[0m\u001b[0;34m\u001b[0m\u001b[0m\n\u001b[1;32m   1265\u001b[0m                 raise KeyError(('Unrecognized key \"%s\" for group \"%s\" and '\n\u001b[0;32m-> 1266\u001b[0;31m                                 'name \"%s\"') % (key, g, name))\n\u001b[0m\u001b[1;32m   1267\u001b[0m \u001b[0;34m\u001b[0m\u001b[0m\n\u001b[1;32m   1268\u001b[0m \u001b[0;34m\u001b[0m\u001b[0m\n",
      "\u001b[0;31mKeyError\u001b[0m: 'Unrecognized key \"axes.color_cycle\" for group \"axes\" and name \"color_cycle\"'"
     ]
    }
   ],
   "source": [
    "%matplotlib inline\n",
    "import pandas as pd\n",
    "import numpy as np\n",
    "from GrandPrix import GrandPrix\n",
    "from utils import plot, plot_comparison, calcroughness"
   ]
  },
  {
   "cell_type": "markdown",
   "metadata": {},
   "source": [
    "## Data decription\n",
    "<a href=\"https://www.ncbi.nlm.nih.gov/pubmed/23023172\" terget=\"_blank\">Windram et al. (2012)</a> analysed the effects of Botrytis cinera infection on *Arabidopis\n",
    "thaliana*. The generated time series contained 24 distinct capture time points for both infected and control conditions. \n",
    "\n",
    "The WindramTrainingData.csv contains the expression profiles of the 100 genes of the 24 cells in infected conditions which have been used in the inference.\n",
    "\n",
    "The WindramMetaData.csv contains the additional information of the data such as capture time of each cells, different initializations of latent space, etc."
   ]
  },
  {
   "cell_type": "code",
   "execution_count": null,
   "metadata": {
    "collapsed": false
   },
   "outputs": [],
   "source": [
    "Y = pd.read_csv('data/Windram/WindramTrainingData.csv', index_col=[0]).T.values\n",
    "mData = pd.read_csv('data/Windram/WindramMetaData.csv', index_col=[0])"
   ]
  },
  {
   "cell_type": "code",
   "execution_count": null,
   "metadata": {
    "collapsed": true
   },
   "outputs": [],
   "source": [
    "N, D = Y.shape"
   ]
  },
  {
   "cell_type": "code",
   "execution_count": null,
   "metadata": {
    "collapsed": false
   },
   "outputs": [],
   "source": [
    "mData.head()"
   ]
  },
  {
   "cell_type": "markdown",
   "metadata": {},
   "source": [
    "## Model Construction\n",
    "The first step of using the GrandPrix is to initialize the model with the observed data and the additional metadata (optional)."
   ]
  },
  {
   "cell_type": "code",
   "execution_count": null,
   "metadata": {
    "collapsed": true
   },
   "outputs": [],
   "source": [
    "mp = GrandPrix(Y, mData)"
   ]
  },
  {
   "cell_type": "markdown",
   "metadata": {},
   "source": [
    "### Build sparse Bayesian GPLVM model\n",
    "Following initializations are essential for better optimizations. If not initialized, the default values will be used.  \n",
    "<ul>\n",
    "<li>__kernel:__ Covariance function to define the mappring mapping from the latent space to the data space in Gaussian process prior. \n",
    "<!--\n",
    "    <ul>\n",
    "        <li>name</li>\n",
    "        <li>ls</li>\n",
    "        <li>var</li>\n",
    "        <li>period</li>\n",
    "    </ul>\n",
    "-->\n",
    "</li>\n",
    "\n",
    "<li>__vParams:__ Variational Parameters\n",
    "    <ul>\n",
    "        <li>Xmean - mean of the latent dimensions. \n",
    "        \n",
    "        ndarray of size $N \\times Q$.</li>\n",
    "        <li>Xvar - variance over the latent dimensions. A single floating point value or a ndarray of size $N \\times Q$.</li>\n",
    "        <li>Z - inducing inputs. ndarray of size $M \\times Q$.</li>\n",
    "    </ul>\n",
    "</li>\n",
    "<li>__priors:__ Prior over the latent input dimensions\n",
    "    <ul>\n",
    "        <li>Priormean - mean of the prior distribution. ndarray of size $N \\times D$.</li>\n",
    "        <li>Priorvar - variance of the prior distribution. A floating point value or a ndarray of size $N \\times D$.</li>\n",
    "    </ul>\n",
    "</li>\n",
    "\n",
    "<li>__latent_dims:__ Number of latent dimensions. An integer.</li>\n",
    "<li>__n_inducing_points:__ Number of inducing points. An integer.</li>\n",
    "</ul>"
   ]
  },
  {
   "cell_type": "code",
   "execution_count": null,
   "metadata": {
    "collapsed": false
   },
   "outputs": [],
   "source": [
    "np.random.seed(10)\n",
    "sigma_t = 3.\n",
    "prior_mean = mData['capture'].values[:, None]\n",
    "\n",
    "X_mean = [prior_mean[i, 0] + sigma_t * np.random.randn(1) for i in range(0, N)]   \n",
    "\n",
    "priors = {'Priormean':prior_mean, 'Priorvar':np.square(sigma_t)}\n",
    "vParams = {'Xmean':np.asarray(X_mean)}\n",
    "\n",
    "mp.build_model(priors, vParams, kernel={'name':'Matern32', 'ls':18.0, 'var':1.0})"
   ]
  },
  {
   "cell_type": "markdown",
   "metadata": {},
   "source": [
    "### Run the model\n",
    "- `fit_model` optimizes the model.\n",
    "- `get_pseudotime` returns the estimated pseudotime points."
   ]
  },
  {
   "cell_type": "code",
   "execution_count": null,
   "metadata": {
    "collapsed": false
   },
   "outputs": [],
   "source": [
    "mp.fit_model()"
   ]
  },
  {
   "cell_type": "code",
   "execution_count": null,
   "metadata": {
    "collapsed": true
   },
   "outputs": [],
   "source": [
    "pseudotimes = mp.get_pseudotime()"
   ]
  },
  {
   "cell_type": "markdown",
   "metadata": {},
   "source": [
    "## Visualize the results\n",
    "Estimated pseudotimes have been plotted against the actual cell capture times to visualize the correspondence between them. Each point represents a particular cell.\n",
    "\n",
    "The points are coloured according to the actual cell capture time. "
   ]
  },
  {
   "cell_type": "code",
   "execution_count": null,
   "metadata": {
    "collapsed": false
   },
   "outputs": [],
   "source": [
    "actual_capture_time = mData['capture.orig'].values\n",
    "plot('', 'Pseudotime', 'Capture time', pseudotimes, actual_capture_time, mData['capture'].values)"
   ]
  },
  {
   "cell_type": "markdown",
   "metadata": {},
   "source": [
    "## Comparison to the <a href=\"https://github.com/JohnReid/DeLorean\" target=\"_blank\" style=\"text-decoration:none;\"> DeLorean Model</a>\n",
    "* $20$ different initializations have been used\n",
    "* Models have been compared for varying number of inducing points in terms of -\n",
    "> * the rank correaltions between actual capture time and estimated pseudotimes\n",
    "> * the fitting times required "
   ]
  },
  {
   "cell_type": "code",
   "execution_count": null,
   "metadata": {
    "collapsed": false
   },
   "outputs": [],
   "source": [
    "plotDf = pd.read_csv('data/Windram/WindramDeLorean.csv', index_col=[0])\n",
    "plot_comparison(plotDf)"
   ]
  },
  {
   "cell_type": "markdown",
   "metadata": {},
   "source": [
    "## Roughness\n",
    "Roughness for a particular gene is defined in <a href=\"https://www.ncbi.nlm.nih.gov/pubmed/27318198\" target=\"_blank\">DeLorean</a> as \n",
    "$$\\frac{1}{\\sigma_g} \\sqrt{ \\frac{1}{C-1} \n",
    "\\sum_{c=1}^{C-1} \\left(x_{g, z_c} - x_{g, z_{c+1}} \\right)^2 }$$\n",
    "where\n",
    "* $\\sigma_g$ the standard deviation of gene expression\n",
    "* $x_{g, z_c}$ is the gene expression for gene $g$ at pseudotime order $z_c$\n",
    "\n",
    "This metric measures the smoothness of the gene expression profile by looking at the differences of consecutive measurements. Smaller values indicate a smoother response.\n",
    "\n",
    "The average roughness statistics for 50 heldout genes using different number of inducing points have been noted. The green bars are proportional to the values shown. "
   ]
  },
  {
   "cell_type": "code",
   "execution_count": null,
   "metadata": {
    "collapsed": false
   },
   "outputs": [],
   "source": [
    "plotDf[['inducingPoints','GPLVM_avg_roughness']].style.bar(color='lightgreen')"
   ]
  },
  {
   "cell_type": "markdown",
   "metadata": {},
   "source": [
    "### The following code will regenerate the comparison and roughness results \n",
    "- The code uses 20 different initial conditions from WindramMetaData.csv file.\n",
    "- 50 heldout genes have been loaded from the WindramHeldOut.csv file.\n",
    "\n",
    "Runnig the following code may take upto 25 mins."
   ]
  },
  {
   "cell_type": "code",
   "execution_count": null,
   "metadata": {
    "collapsed": false
   },
   "outputs": [],
   "source": [
    "from scipy.stats import spearmanr\n",
    "\n",
    "heldOut = pd.read_csv('data/Windram/WindramHeldOut.csv', index_col=0) # G X N\n",
    "\n",
    "u = [4, 6, 8, 10, 12, 14, 16, 18, 20, 22]\n",
    "keys = mData.keys()\n",
    "rows = len(u)\n",
    "cols = len(keys) - 6\n",
    "actualCaptureTime = mData['capture.orig'].values\n",
    "reqTime = np.zeros((rows, cols))\n",
    "spearCorr = np.zeros((rows, cols))\n",
    "roughness = np.zeros((rows, cols))\n",
    "\n",
    "for i in range(0, rows):\n",
    "    for j in range(0, cols):\n",
    "        vParams = {'Xmean':keys[j + 6]}\n",
    "        mp.build_model(priors, vParams, kernel={'name':'Matern32', 'ls':18.0, 'var':1.0}, n_inducing_points = u[i])\n",
    "        mp.fit_model()\n",
    "        pseudotimes = mp.get_pseudotime()\n",
    "        spearCorr[i,j] = spearmanr(pseudotimes, actualCaptureTime)[0]\n",
    "        reqTime[i,j] = mp.get_model_fitting_time()\n",
    "        roughness[i,j] = np.mean(calcroughness(heldOut.values, pseudotimes.reshape(-1)))\n",
    "        \n",
    "bestSpearCorr = np.zeros(rows)\n",
    "avgSpearCorr = np.zeros(rows)\n",
    "avgReqTime = np.zeros(rows)\n",
    "avgRoughness = np.zeros(rows)\n",
    "for n in range(0,rows):\n",
    "    bestSpearCorr[n] = np.max(spearCorr[n])\n",
    "    avgSpearCorr[n] = np.mean(spearCorr[n])\n",
    "    avgReqTime[n] = np.mean(reqTime[n])\n",
    "    avgRoughness[n] = np.mean(roughness[n])\n",
    "\n",
    "plotDf['GPLVM_avg'] = avgSpearCorr\n",
    "plotDf['GPLVM_best'] = bestSpearCorr\n",
    "plotDf['GPLVM_fitting_time'] = avgReqTime\n",
    "plotDf['GPLVM_avg_roughness'] = avgRoughness"
   ]
  },
  {
   "cell_type": "code",
   "execution_count": null,
   "metadata": {
    "collapsed": false
   },
   "outputs": [],
   "source": [
    "plot_comparison(plotDf)"
   ]
  },
  {
   "cell_type": "code",
   "execution_count": null,
   "metadata": {
    "collapsed": false
   },
   "outputs": [],
   "source": [
    "plotDf[['inducingPoints','GPLVM_avg_roughness']].style.bar(color='lightgreen')"
   ]
  }
 ],
 "metadata": {
  "anaconda-cloud": {},
  "kernelspec": {
   "display_name": "Python [conda env:tensor_13]",
   "language": "python",
   "name": "conda-env-tensor_13-py"
  },
  "language_info": {
   "codemirror_mode": {
    "name": "ipython",
    "version": 3
   },
   "file_extension": ".py",
   "mimetype": "text/x-python",
   "name": "python",
   "nbconvert_exporter": "python",
   "pygments_lexer": "ipython3",
   "version": "3.5.5"
  }
 },
 "nbformat": 4,
 "nbformat_minor": 1
}
