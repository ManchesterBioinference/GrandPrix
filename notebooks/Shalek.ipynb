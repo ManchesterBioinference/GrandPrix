{
 "cells": [
  {
   "cell_type": "markdown",
   "metadata": {},
   "source": [
    "# Applying GrandPrix on the single cell RNA-seq of mouse dendritic cells\n",
    "_Sumon Ahmed_, 2017, 2018\n",
    "\n",
    "This notebooks shows how GrandPrix with informative prior over the latent space can be used to infer one dimensional pseudotime from the single cell RNA-seq of the primary bone-marrow-derived dendritic cells of mouse."
   ]
  },
  {
   "cell_type": "code",
   "execution_count": 1,
   "metadata": {
    "collapsed": false
   },
   "outputs": [],
   "source": [
    "import pandas as pd\n",
    "import numpy as np\n",
    "from  GrandPrix import GrandPrix"
   ]
  },
  {
   "cell_type": "markdown",
   "metadata": {},
   "source": [
    "## Data description\n",
    "\n",
    "<a href=\"https://www.ncbi.nlm.nih.gov/pubmed/24919153\" target=\"_blank\">Shalek et al. (2014)</a> generated single cell RNA-seq from the primary bone-marrow-derived dendritic cells of mouse in three different conditions.They described\n",
    "several modules of genes which show different temporal expression patterns through the lipopolysaccharide stimulated (LPS) time course.\n",
    "\n",
    "They found two cells captured at the 1 hour mark which switched to this group precociously, i.e. have genes expressed which are not expressed in the other cells of the 1 hour group.\n",
    "\n",
    "The __ShalekTrainingData.csv__ file contains the expression profiles of the top __74__ variable expressed genes in __307__ cells from the LPS time course which have been used in the inference.\n",
    "\n",
    "The __ShalekCellMeta.csv__ file contains the additional information of the data such as capture time of each cells, different initializations of pseudotimes, etc."
   ]
  },
  {
   "cell_type": "code",
   "execution_count": 2,
   "metadata": {
    "collapsed": true
   },
   "outputs": [],
   "source": [
    "Y = pd.read_csv('../data/Shalek/ShalekTrainingData.csv', index_col=[0]).T.values\n",
    "mData = pd.read_csv('../data/Shalek/ShalekCellMeta.csv', index_col=[0])"
   ]
  },
  {
   "cell_type": "code",
   "execution_count": 3,
   "metadata": {
    "collapsed": false
   },
   "outputs": [
    {
     "name": "stdout",
     "output_type": "stream",
     "text": [
      "Cells: 307, Genes: 74\n"
     ]
    }
   ],
   "source": [
    "from sklearn import preprocessing\n",
    "Y = preprocessing.scale(Y)\n",
    "N, D = Y.shape\n",
    "print('Cells: %s, Genes: %s'%(N, D))"
   ]
  },
  {
   "cell_type": "code",
   "execution_count": 4,
   "metadata": {
    "collapsed": false
   },
   "outputs": [
    {
     "data": {
      "text/html": [
       "<div>\n",
       "<style scoped>\n",
       "    .dataframe tbody tr th:only-of-type {\n",
       "        vertical-align: middle;\n",
       "    }\n",
       "\n",
       "    .dataframe tbody tr th {\n",
       "        vertical-align: top;\n",
       "    }\n",
       "\n",
       "    .dataframe thead th {\n",
       "        text-align: right;\n",
       "    }\n",
       "</style>\n",
       "<table border=\"1\" class=\"dataframe\">\n",
       "  <thead>\n",
       "    <tr style=\"text-align: right;\">\n",
       "      <th></th>\n",
       "      <th>c</th>\n",
       "      <th>cell</th>\n",
       "      <th>assay</th>\n",
       "      <th>ko</th>\n",
       "      <th>stimulant</th>\n",
       "      <th>captureActual</th>\n",
       "      <th>replicate</th>\n",
       "      <th>cell.num</th>\n",
       "      <th>obstime</th>\n",
       "      <th>total</th>\n",
       "      <th>...</th>\n",
       "      <th>init_11</th>\n",
       "      <th>init_12</th>\n",
       "      <th>init_13</th>\n",
       "      <th>init_14</th>\n",
       "      <th>init_15</th>\n",
       "      <th>init_16</th>\n",
       "      <th>init_17</th>\n",
       "      <th>init_18</th>\n",
       "      <th>init_19</th>\n",
       "      <th>init_20</th>\n",
       "    </tr>\n",
       "  </thead>\n",
       "  <tbody>\n",
       "    <tr>\n",
       "      <th>1</th>\n",
       "      <td>1</td>\n",
       "      <td>Unstimulated_S15</td>\n",
       "      <td>NaN</td>\n",
       "      <td>NaN</td>\n",
       "      <td>NaN</td>\n",
       "      <td>Unstimulated</td>\n",
       "      <td>NaN</td>\n",
       "      <td>15</td>\n",
       "      <td>0</td>\n",
       "      <td>8930811</td>\n",
       "      <td>...</td>\n",
       "      <td>0.176471</td>\n",
       "      <td>4.124183</td>\n",
       "      <td>3.183007</td>\n",
       "      <td>-0.686275</td>\n",
       "      <td>-0.320261</td>\n",
       "      <td>-0.529412</td>\n",
       "      <td>2.764706</td>\n",
       "      <td>0.202614</td>\n",
       "      <td>-0.686275</td>\n",
       "      <td>-0.686275</td>\n",
       "    </tr>\n",
       "    <tr>\n",
       "      <th>2</th>\n",
       "      <td>2</td>\n",
       "      <td>Unstimulated_S16</td>\n",
       "      <td>NaN</td>\n",
       "      <td>NaN</td>\n",
       "      <td>NaN</td>\n",
       "      <td>Unstimulated</td>\n",
       "      <td>NaN</td>\n",
       "      <td>16</td>\n",
       "      <td>0</td>\n",
       "      <td>8438017</td>\n",
       "      <td>...</td>\n",
       "      <td>-0.450980</td>\n",
       "      <td>1.352941</td>\n",
       "      <td>3.000000</td>\n",
       "      <td>-0.555556</td>\n",
       "      <td>-0.790850</td>\n",
       "      <td>-0.921569</td>\n",
       "      <td>3.549020</td>\n",
       "      <td>-0.294118</td>\n",
       "      <td>0.098039</td>\n",
       "      <td>0.437908</td>\n",
       "    </tr>\n",
       "    <tr>\n",
       "      <th>3</th>\n",
       "      <td>3</td>\n",
       "      <td>Unstimulated_S17</td>\n",
       "      <td>NaN</td>\n",
       "      <td>NaN</td>\n",
       "      <td>NaN</td>\n",
       "      <td>Unstimulated</td>\n",
       "      <td>NaN</td>\n",
       "      <td>17</td>\n",
       "      <td>0</td>\n",
       "      <td>8517120</td>\n",
       "      <td>...</td>\n",
       "      <td>-0.346405</td>\n",
       "      <td>1.379085</td>\n",
       "      <td>3.810458</td>\n",
       "      <td>-0.764706</td>\n",
       "      <td>0.254902</td>\n",
       "      <td>-0.738562</td>\n",
       "      <td>3.026144</td>\n",
       "      <td>-0.163399</td>\n",
       "      <td>2.032680</td>\n",
       "      <td>0.098039</td>\n",
       "    </tr>\n",
       "    <tr>\n",
       "      <th>4</th>\n",
       "      <td>4</td>\n",
       "      <td>Unstimulated_S23</td>\n",
       "      <td>NaN</td>\n",
       "      <td>NaN</td>\n",
       "      <td>NaN</td>\n",
       "      <td>Unstimulated</td>\n",
       "      <td>NaN</td>\n",
       "      <td>23</td>\n",
       "      <td>0</td>\n",
       "      <td>5975840</td>\n",
       "      <td>...</td>\n",
       "      <td>-0.764706</td>\n",
       "      <td>-0.346405</td>\n",
       "      <td>3.679739</td>\n",
       "      <td>-0.032680</td>\n",
       "      <td>0.228758</td>\n",
       "      <td>-0.450980</td>\n",
       "      <td>3.784314</td>\n",
       "      <td>-0.581699</td>\n",
       "      <td>0.437908</td>\n",
       "      <td>2.032680</td>\n",
       "    </tr>\n",
       "    <tr>\n",
       "      <th>5</th>\n",
       "      <td>5</td>\n",
       "      <td>Unstimulated_S24</td>\n",
       "      <td>NaN</td>\n",
       "      <td>NaN</td>\n",
       "      <td>NaN</td>\n",
       "      <td>Unstimulated</td>\n",
       "      <td>NaN</td>\n",
       "      <td>24</td>\n",
       "      <td>0</td>\n",
       "      <td>11633075</td>\n",
       "      <td>...</td>\n",
       "      <td>-0.921569</td>\n",
       "      <td>-0.450980</td>\n",
       "      <td>2.895425</td>\n",
       "      <td>-0.398693</td>\n",
       "      <td>-0.006536</td>\n",
       "      <td>-0.346405</td>\n",
       "      <td>2.163399</td>\n",
       "      <td>-0.686275</td>\n",
       "      <td>1.169935</td>\n",
       "      <td>1.169935</td>\n",
       "    </tr>\n",
       "  </tbody>\n",
       "</table>\n",
       "<p>5 rows × 38 columns</p>\n",
       "</div>"
      ],
      "text/plain": [
       "   c              cell  assay  ko stimulant captureActual  replicate  \\\n",
       "1  1  Unstimulated_S15    NaN NaN       NaN  Unstimulated        NaN   \n",
       "2  2  Unstimulated_S16    NaN NaN       NaN  Unstimulated        NaN   \n",
       "3  3  Unstimulated_S17    NaN NaN       NaN  Unstimulated        NaN   \n",
       "4  4  Unstimulated_S23    NaN NaN       NaN  Unstimulated        NaN   \n",
       "5  5  Unstimulated_S24    NaN NaN       NaN  Unstimulated        NaN   \n",
       "\n",
       "   cell.num  obstime     total    ...      init_11   init_12   init_13  \\\n",
       "1        15        0   8930811    ...     0.176471  4.124183  3.183007   \n",
       "2        16        0   8438017    ...    -0.450980  1.352941  3.000000   \n",
       "3        17        0   8517120    ...    -0.346405  1.379085  3.810458   \n",
       "4        23        0   5975840    ...    -0.764706 -0.346405  3.679739   \n",
       "5        24        0  11633075    ...    -0.921569 -0.450980  2.895425   \n",
       "\n",
       "    init_14   init_15   init_16   init_17   init_18   init_19   init_20  \n",
       "1 -0.686275 -0.320261 -0.529412  2.764706  0.202614 -0.686275 -0.686275  \n",
       "2 -0.555556 -0.790850 -0.921569  3.549020 -0.294118  0.098039  0.437908  \n",
       "3 -0.764706  0.254902 -0.738562  3.026144 -0.163399  2.032680  0.098039  \n",
       "4 -0.032680  0.228758 -0.450980  3.784314 -0.581699  0.437908  2.032680  \n",
       "5 -0.398693 -0.006536 -0.346405  2.163399 -0.686275  1.169935  1.169935  \n",
       "\n",
       "[5 rows x 38 columns]"
      ]
     },
     "execution_count": 4,
     "metadata": {},
     "output_type": "execute_result"
    }
   ],
   "source": [
    "mData.head()"
   ]
  },
  {
   "cell_type": "markdown",
   "metadata": {},
   "source": [
    "## Run the GrandPrix model\n",
    "\n",
    "Capture time points have been used as the informative prior information over pseudotime. Following arguments have been passed to initialize the model.\n",
    "\n",
    "<!--\n",
    "-  __data__: _array-like, shape N x D_. Observed data, where N is the number of time points and D is the number of genes.\n",
    "-  __latent_prior_mean__: _array-like, shape N_ x 1, _optional (default:_ __0__). > Mean of the prior distribution over pseudotime.\n",
    "-  __latent_prior_var__: _array-like, shape N_ x 1, _optional (default:_ __1.__). Variance of the prior distribution over pseudotime.\n",
    "-  __latent_mean__: _array-like, shape N_ x 1, _optional (default:_ __1.__). Initial mean values of the approximate posterior distribution over pseudotime.\n",
    "-  __latent_var__: _array-like, shape N_ x 1, _optional (default:_ __1.__). Initial variance of the approximate posterior distribution over pseudotime.\n",
    "- __kernel:__ _optional (default: RBF kernel with lengthscale and variance set to 1.0)_. Covariance function to define the mapping from the latent space to the data space in Gaussian process prior.\n",
    "-->\n",
    "\n",
    "-  __data__: _array-like, shape N x D_. Observed data, where N is the number of time points and D is the number of genes.\n",
    "\n",
    "\n",
    "-  __n_inducing_points__: _int_. Number of inducing points.\n",
    "\n",
    "\n",
    "-  __latent_prior_mean__: _array-like, shape N_ x 1. Mean of the prior distribution over pseudotime.\n",
    "\n",
    "\n",
    "-  __latent_prior_var__: _array-like, shape N_ x 1. Variance of the prior distribution over pseudotime.\n",
    "\n",
    "\n",
    "-  __latent_mean__: _array-like, shape N_ x 1. Initial mean values of the approximate posterior distribution over pseudotime.\n",
    "\n",
    "<!--\n",
    "-  __latent_var__: _array-like, shape N_ x 1. Initial variance of the approximate posterior distribution over pseudotime.\n",
    "-->\n",
    "\n",
    "- __kernel:__. Covariance function to define the mapping from the latent space to the data space in Gaussian process prior.\n",
    "\n",
    "\n",
    "-  __inducing_inputs__: _array-like, shape_ _n_\\__inducing_\\__points_ x 1. Inducing input variables in the space of latent variables. "
   ]
  },
  {
   "cell_type": "code",
   "execution_count": 5,
   "metadata": {
    "collapsed": false
   },
   "outputs": [],
   "source": [
    "latent_dims = 1\n",
    "M = 30 # number of inducing points\n",
    "\n",
    "np.random.seed(10)\n",
    "sigma_t = 1.\n",
    "prior_mean = mData['capture.orig'].values[:, None]\n",
    "\n",
    "X_mean = [prior_mean[i, 0] + sigma_t * np.random.randn(1) for i in range(0, N)]  # initialisation of latent_mean \n",
    "\n",
    "np.random.seed(10)\n",
    "Z = np.random.rand(M, latent_dims) # initialisation of inducing_inputs "
   ]
  },
  {
   "cell_type": "code",
   "execution_count": 6,
   "metadata": {
    "collapsed": false
   },
   "outputs": [
    {
     "name": "stdout",
     "output_type": "stream",
     "text": [
      "Could not find signature for _expectation: <Gaussian, Matern32, NoneType, NoneType, NoneType>\n",
      "Could not find signature for _expectation: <Gaussian, Matern32, InducingPoints, NoneType, NoneType>\n",
      "Could not find signature for _expectation: <Gaussian, Matern32, InducingPoints, Matern32, InducingPoints>\n"
     ]
    },
    {
     "name": "stderr",
     "output_type": "stream",
     "text": [
      "/home/sumon/newInstall/GPflow/gpflow/expectations.py:110: UserWarning: Quadrature is used to calculate the expectation. This means that an analytical implementations is not available for the given combination.\n",
      "  warnings.warn(\"Quadrature is used to calculate the expectation. This means that \"\n"
     ]
    },
    {
     "name": "stdout",
     "output_type": "stream",
     "text": [
      "INFO:tensorflow:Optimization terminated with:\n",
      "  Message: b'CONVERGENCE: REL_REDUCTION_OF_F_<=_FACTR*EPSMCH'\n",
      "  Objective function value: 22648.442418\n",
      "  Number of iterations: 284\n",
      "  Number of functions evaluations: 332\n"
     ]
    }
   ],
   "source": [
    "pt, var = GrandPrix.fit_model(data=Y, n_inducing_points=M, \n",
    "                            latent_prior_mean=prior_mean, latent_prior_var=np.square(sigma_t), \n",
    "                            latent_mean=np.asarray(X_mean), \n",
    "                            kernel={'name':'Matern32', 'ls':5.0, 'var':1.0}, inducing_inputs=Z, display=True)"
   ]
  },
  {
   "cell_type": "markdown",
   "metadata": {},
   "source": [
    "## Visualize the results\n",
    "The module score <a href=\"https://www.ncbi.nlm.nih.gov/pubmed/24919153\" target=\"_blank\" style=\"text-decoration:none\">(Shalek et al., 2014)</a> of core antiviral genes have been plotted over the estimated pseudotimes. Each point corresponds to the module score of a cell. \n",
    "\n",
    "The points are coloured according to the actual cell capture time.\n",
    "\n",
    "A Loess curve through the data have been generated by using the R `stat_smooth` function. "
   ]
  },
  {
   "cell_type": "code",
   "execution_count": null,
   "metadata": {
    "collapsed": true
   },
   "outputs": [],
   "source": [
    "data = pd.DataFrame({'Pseudotime':pt.reshape(-1), 'Module_score':mData['module.score'], \n",
    "                     'capture':mData['obstime'].values, 'type':mData['Precocious'].values})\n",
    "data=data.sort_values('type', ascending=True)"
   ]
  },
  {
   "cell_type": "code",
   "execution_count": 4,
   "metadata": {
    "collapsed": false
   },
   "outputs": [],
   "source": [
    "import readline\n",
    "import rpy2.robjects\n",
    "%load_ext rpy2.ipython"
   ]
  },
  {
   "cell_type": "code",
   "execution_count": 5,
   "metadata": {
    "collapsed": false
   },
   "outputs": [],
   "source": [
    "%%R\n",
    "library(ggplot2)"
   ]
  },
  {
   "cell_type": "code",
   "execution_count": 6,
   "metadata": {
    "collapsed": false
   },
   "outputs": [
    {
     "name": "stderr",
     "output_type": "stream",
     "text": [
      "/home/sumon/anaconda3/lib/python3.5/site-packages/rpy2/rinterface/__init__.py:186: RRuntimeWarning: `geom_smooth()` using method = 'loess'\n",
      "\n",
      "  warnings.warn(x, RRuntimeWarning)\n"
     ]
    },
    {
     "data": {
      "image/png": "[encoded data removed]"
     },
     "metadata": {},
     "output_type": "display_data"
    }
   ],
   "source": [
    "%%R -i data -w 650\n",
    "head(data)\n",
    "\n",
    "plots1<-(\n",
    "    ggplot(data,\n",
    "           aes(x=Pseudotime, y=Module_score, color=as.factor(capture), shape=type, size=type=='Precocious'))\n",
    "    + stat_smooth(aes(group=\"\", color=NULL), size=2)\n",
    "    + scale_size_manual(values=c(4, 7))\n",
    "    + theme(panel.background = element_rect(fill=\"white\", linetype=\"solid\", color=\"black\"))\n",
    "    + theme(text = element_text(size=20))\n",
    ")\n",
    "plots1 = plots1 + geom_point(alpha=0.5) + scale_colour_manual(name = 'Capture Time', \n",
    "         values =c('0'='red','1'='blue','2'='green','4'='orange','6'='darkviolet'), \n",
    "                                      labels = c('Unstimulated','1hr','2hr','4hr','6hr'))\n",
    "plots1 = plots1 + guides(size=FALSE, shape = guide_legend(override.aes = list(size=5)))\n",
    "print(plots1)"
   ]
  }
 ],
 "metadata": {
  "anaconda-cloud": {},
  "kernelspec": {
   "display_name": "Python [conda env:tensor_15]",
   "language": "python",
   "name": "conda-env-tensor_15-py"
  },
  "language_info": {
   "codemirror_mode": {
    "name": "ipython",
    "version": 3
   },
   "file_extension": ".py",
   "mimetype": "text/x-python",
   "name": "python",
   "nbconvert_exporter": "python",
   "pygments_lexer": "ipython3",
   "version": "3.5.4"
  }
 },
 "nbformat": 4,
 "nbformat_minor": 1
}
