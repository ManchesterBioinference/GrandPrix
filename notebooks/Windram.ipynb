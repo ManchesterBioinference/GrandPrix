{
 "cells": [
  {
   "cell_type": "markdown",
   "metadata": {},
   "source": [
    "<!--# GrandPrix: Scaling up the Bayesian GPLVM with informative prior-->\n",
    "# Applying GrandPrix to the *Arabidopis thaliana* microarray data\n",
    "_Sumon Ahmed_, 2017\n",
    "\n",
    "<!--The sparse variational inference of the Bayesian GPLVM allows the computation of an exact lower bound of the marginal log likelihood $\\log p(Y|\\theta)$ by variationaly integrating out the input/latent variables of the GP. \n",
    "-->\n",
    "This notebooks depicts how GrandPrix with informative prior over the latent space can be used to infer one dimensional pseudotime from microarray data.   "
   ]
  },
  {
   "cell_type": "code",
   "execution_count": 1,
   "metadata": {
    "collapsed": false
   },
   "outputs": [],
   "source": [
    "import pandas as pd\n",
    "import numpy as np\n",
    "from  GrandPrix import GrandPrix"
   ]
  },
  {
   "cell_type": "markdown",
   "metadata": {},
   "source": [
    "## Data decription\n",
    "<a href=\"https://www.ncbi.nlm.nih.gov/pubmed/23023172\" terget=\"_blank\">Windram et al. (2012)</a> analysed the effects of Botrytis cinera infection on *Arabidopis\n",
    "thaliana*. The generated time series contained __24__ distinct capture time points for both infected and control conditions. \n",
    "\n",
    "The __WindramTrainingData.csv__ contains the expression profiles of the __100__ genes of the __24__ time points in infected conditions which have been used in the inference.\n",
    "\n",
    "The __WindramMetaData.csv__ contains the additional information of the data such as capture time of each cells, different initializations of latent space, etc."
   ]
  },
  {
   "cell_type": "code",
   "execution_count": 2,
   "metadata": {
    "collapsed": false
   },
   "outputs": [],
   "source": [
    "Y = pd.read_csv('../data/Windram/WindramTrainingData.csv', index_col=[0]).T.values\n",
    "mData = pd.read_csv('../data/Windram/WindramMetaData.csv', index_col=[0])"
   ]
  },
  {
   "cell_type": "code",
   "execution_count": 3,
   "metadata": {
    "collapsed": false
   },
   "outputs": [
    {
     "name": "stdout",
     "output_type": "stream",
     "text": [
      "Time Points: 24, Genes: 100\n"
     ]
    }
   ],
   "source": [
    "N, D = Y.shape\n",
    "print('Time Points: %s, Genes: %s'%(N, D))"
   ]
  },
  {
   "cell_type": "code",
   "execution_count": 4,
   "metadata": {
    "collapsed": false
   },
   "outputs": [
    {
     "data": {
      "text/html": [
       "<div>\n",
       "<style scoped>\n",
       "    .dataframe tbody tr th:only-of-type {\n",
       "        vertical-align: middle;\n",
       "    }\n",
       "\n",
       "    .dataframe tbody tr th {\n",
       "        vertical-align: top;\n",
       "    }\n",
       "\n",
       "    .dataframe thead th {\n",
       "        text-align: right;\n",
       "    }\n",
       "</style>\n",
       "<table border=\"1\" class=\"dataframe\">\n",
       "  <thead>\n",
       "    <tr style=\"text-align: right;\">\n",
       "      <th></th>\n",
       "      <th>cell</th>\n",
       "      <th>obstime</th>\n",
       "      <th>condition</th>\n",
       "      <th>capture</th>\n",
       "      <th>obstime.orig</th>\n",
       "      <th>capture.orig</th>\n",
       "      <th>init_1</th>\n",
       "      <th>init_2</th>\n",
       "      <th>init_3</th>\n",
       "      <th>init_4</th>\n",
       "      <th>...</th>\n",
       "      <th>init_11</th>\n",
       "      <th>init_12</th>\n",
       "      <th>init_13</th>\n",
       "      <th>init_14</th>\n",
       "      <th>init_15</th>\n",
       "      <th>init_16</th>\n",
       "      <th>init_17</th>\n",
       "      <th>init_18</th>\n",
       "      <th>init_19</th>\n",
       "      <th>init_20</th>\n",
       "    </tr>\n",
       "  </thead>\n",
       "  <tbody>\n",
       "    <tr>\n",
       "      <th>1</th>\n",
       "      <td>GSM734540</td>\n",
       "      <td>6</td>\n",
       "      <td>Botrytis</td>\n",
       "      <td>6</td>\n",
       "      <td>2</td>\n",
       "      <td>2</td>\n",
       "      <td>3.000000</td>\n",
       "      <td>3.000000</td>\n",
       "      <td>3.000000</td>\n",
       "      <td>3.000000</td>\n",
       "      <td>...</td>\n",
       "      <td>3.000000</td>\n",
       "      <td>3.000000</td>\n",
       "      <td>3.000000</td>\n",
       "      <td>3.000000</td>\n",
       "      <td>3.000000</td>\n",
       "      <td>3.000000</td>\n",
       "      <td>3.000000</td>\n",
       "      <td>3.000000</td>\n",
       "      <td>8.478261</td>\n",
       "      <td>8.478261</td>\n",
       "    </tr>\n",
       "    <tr>\n",
       "      <th>2</th>\n",
       "      <td>GSM734541</td>\n",
       "      <td>6</td>\n",
       "      <td>Botrytis</td>\n",
       "      <td>6</td>\n",
       "      <td>4</td>\n",
       "      <td>4</td>\n",
       "      <td>4.826087</td>\n",
       "      <td>4.826087</td>\n",
       "      <td>4.826087</td>\n",
       "      <td>4.826087</td>\n",
       "      <td>...</td>\n",
       "      <td>4.826087</td>\n",
       "      <td>4.826087</td>\n",
       "      <td>4.826087</td>\n",
       "      <td>4.826087</td>\n",
       "      <td>4.826087</td>\n",
       "      <td>4.826087</td>\n",
       "      <td>4.826087</td>\n",
       "      <td>4.826087</td>\n",
       "      <td>12.130435</td>\n",
       "      <td>12.130435</td>\n",
       "    </tr>\n",
       "    <tr>\n",
       "      <th>3</th>\n",
       "      <td>GSM734542</td>\n",
       "      <td>6</td>\n",
       "      <td>Botrytis</td>\n",
       "      <td>6</td>\n",
       "      <td>6</td>\n",
       "      <td>6</td>\n",
       "      <td>8.478261</td>\n",
       "      <td>6.652174</td>\n",
       "      <td>6.652174</td>\n",
       "      <td>6.652174</td>\n",
       "      <td>...</td>\n",
       "      <td>6.652174</td>\n",
       "      <td>6.652174</td>\n",
       "      <td>6.652174</td>\n",
       "      <td>6.652174</td>\n",
       "      <td>6.652174</td>\n",
       "      <td>6.652174</td>\n",
       "      <td>6.652174</td>\n",
       "      <td>6.652174</td>\n",
       "      <td>3.000000</td>\n",
       "      <td>10.304348</td>\n",
       "    </tr>\n",
       "    <tr>\n",
       "      <th>4</th>\n",
       "      <td>GSM734543</td>\n",
       "      <td>6</td>\n",
       "      <td>Botrytis</td>\n",
       "      <td>6</td>\n",
       "      <td>8</td>\n",
       "      <td>8</td>\n",
       "      <td>6.652174</td>\n",
       "      <td>10.304348</td>\n",
       "      <td>10.304348</td>\n",
       "      <td>8.478261</td>\n",
       "      <td>...</td>\n",
       "      <td>8.478261</td>\n",
       "      <td>10.304348</td>\n",
       "      <td>10.304348</td>\n",
       "      <td>10.304348</td>\n",
       "      <td>8.478261</td>\n",
       "      <td>8.478261</td>\n",
       "      <td>8.478261</td>\n",
       "      <td>10.304348</td>\n",
       "      <td>6.652174</td>\n",
       "      <td>6.652174</td>\n",
       "    </tr>\n",
       "    <tr>\n",
       "      <th>5</th>\n",
       "      <td>GSM734544</td>\n",
       "      <td>6</td>\n",
       "      <td>Botrytis</td>\n",
       "      <td>6</td>\n",
       "      <td>10</td>\n",
       "      <td>10</td>\n",
       "      <td>10.304348</td>\n",
       "      <td>8.478261</td>\n",
       "      <td>8.478261</td>\n",
       "      <td>10.304348</td>\n",
       "      <td>...</td>\n",
       "      <td>10.304348</td>\n",
       "      <td>8.478261</td>\n",
       "      <td>8.478261</td>\n",
       "      <td>8.478261</td>\n",
       "      <td>10.304348</td>\n",
       "      <td>10.304348</td>\n",
       "      <td>10.304348</td>\n",
       "      <td>8.478261</td>\n",
       "      <td>13.956522</td>\n",
       "      <td>3.000000</td>\n",
       "    </tr>\n",
       "  </tbody>\n",
       "</table>\n",
       "<p>5 rows × 26 columns</p>\n",
       "</div>"
      ],
      "text/plain": [
       "        cell  obstime condition  capture  obstime.orig  capture.orig  \\\n",
       "1  GSM734540        6  Botrytis        6             2             2   \n",
       "2  GSM734541        6  Botrytis        6             4             4   \n",
       "3  GSM734542        6  Botrytis        6             6             6   \n",
       "4  GSM734543        6  Botrytis        6             8             8   \n",
       "5  GSM734544        6  Botrytis        6            10            10   \n",
       "\n",
       "      init_1     init_2     init_3     init_4    ...        init_11  \\\n",
       "1   3.000000   3.000000   3.000000   3.000000    ...       3.000000   \n",
       "2   4.826087   4.826087   4.826087   4.826087    ...       4.826087   \n",
       "3   8.478261   6.652174   6.652174   6.652174    ...       6.652174   \n",
       "4   6.652174  10.304348  10.304348   8.478261    ...       8.478261   \n",
       "5  10.304348   8.478261   8.478261  10.304348    ...      10.304348   \n",
       "\n",
       "     init_12    init_13    init_14    init_15    init_16    init_17  \\\n",
       "1   3.000000   3.000000   3.000000   3.000000   3.000000   3.000000   \n",
       "2   4.826087   4.826087   4.826087   4.826087   4.826087   4.826087   \n",
       "3   6.652174   6.652174   6.652174   6.652174   6.652174   6.652174   \n",
       "4  10.304348  10.304348  10.304348   8.478261   8.478261   8.478261   \n",
       "5   8.478261   8.478261   8.478261  10.304348  10.304348  10.304348   \n",
       "\n",
       "     init_18    init_19    init_20  \n",
       "1   3.000000   8.478261   8.478261  \n",
       "2   4.826087  12.130435  12.130435  \n",
       "3   6.652174   3.000000  10.304348  \n",
       "4  10.304348   6.652174   6.652174  \n",
       "5   8.478261  13.956522   3.000000  \n",
       "\n",
       "[5 rows x 26 columns]"
      ]
     },
     "execution_count": 4,
     "metadata": {},
     "output_type": "execute_result"
    }
   ],
   "source": [
    "mData.head()"
   ]
  },
  {
   "cell_type": "markdown",
   "metadata": {},
   "source": [
    "## Model with Informative prior\n",
    "\n",
    "Capture time points have been used as the informative prior information over pseudotime. Following arguments have been passed to initialize the model.\n",
    "\n",
    "<!--\n",
    "-  __data__: _array-like, shape N x D_. Observed data, where N is the number of time points and D is the number of genes.\n",
    "-  __latent_prior_mean__: _array-like, shape N_ x 1, _optional (default:_ __0__). > Mean of the prior distribution over pseudotime.\n",
    "-  __latent_prior_var__: _array-like, shape N_ x 1, _optional (default:_ __1.__). Variance of the prior distribution over pseudotime.\n",
    "-  __latent_mean__: _array-like, shape N_ x 1, _optional (default:_ __1.__). Initial mean values of the approximate posterior distribution over pseudotime.\n",
    "-  __latent_var__: _array-like, shape N_ x 1, _optional (default:_ __1.__). Initial variance of the approximate posterior distribution over pseudotime.\n",
    "- __kernel:__ _optional (default: RBF kernel with lengthscale and variance set to 1.0)_. Covariance function to define the mapping from the latent space to the data space in Gaussian process prior. \n",
    "\n",
    "-->\n",
    "\n",
    "-  __data__: _array-like, shape N x D_. Observed data, where N is the number of time points and D is the number of genes.\n",
    "\n",
    "\n",
    "-  __latent_prior_mean__: _array-like, shape N_ x 1. Mean of the prior distribution over pseudotime.\n",
    "\n",
    "\n",
    "-  __latent_prior_var__: _array-like, shape N_ x 1. Variance of the prior distribution over pseudotime.\n",
    "\n",
    "\n",
    "-  __latent_mean__: _array-like, shape N_ x 1. Initial mean values of the approximate posterior distribution over pseudotime.\n",
    "\n",
    "\n",
    "-  __latent_var__: _array-like, shape N_ x 1. Initial variance of the approximate posterior distribution over pseudotime.\n",
    "\n",
    "\n",
    "- __kernel:__. Covariance function to define the mapping from the latent space to the data space in Gaussian process prior."
   ]
  },
  {
   "cell_type": "code",
   "execution_count": 5,
   "metadata": {
    "collapsed": true
   },
   "outputs": [],
   "source": [
    "np.random.seed(10)\n",
    "sigma_t = 3.\n",
    "prior_mean = mData['capture'].values[:, None]\n",
    "\n",
    "X_mean = [prior_mean[i, 0] + sigma_t * np.random.randn(1) for i in range(0, N)] "
   ]
  },
  {
   "cell_type": "code",
   "execution_count": 6,
   "metadata": {
    "collapsed": false
   },
   "outputs": [
    {
     "name": "stdout",
     "output_type": "stream",
     "text": [
      "Could not find signature for _expectation: <Gaussian, Matern32, NoneType, NoneType, NoneType>\n",
      "Could not find signature for _expectation: <Gaussian, Matern32, InducingPoints, NoneType, NoneType>\n",
      "Could not find signature for _expectation: <Gaussian, Matern32, InducingPoints, Matern32, InducingPoints>\n"
     ]
    },
    {
     "name": "stderr",
     "output_type": "stream",
     "text": [
      "/home/sumon/newInstall/GPflow/gpflow/expectations.py:110: UserWarning: Quadrature is used to calculate the expectation. This means that an analytical implementations is not available for the given combination.\n",
      "  warnings.warn(\"Quadrature is used to calculate the expectation. This means that \"\n"
     ]
    },
    {
     "name": "stdout",
     "output_type": "stream",
     "text": [
      "INFO:tensorflow:Optimization terminated with:\n",
      "  Message: b'CONVERGENCE: REL_REDUCTION_OF_F_<=_FACTR*EPSMCH'\n",
      "  Objective function value: 1768.381846\n",
      "  Number of iterations: 264\n",
      "  Number of functions evaluations: 301\n"
     ]
    }
   ],
   "source": [
    "pt_wp, var_wp = GrandPrix.fit_model(data=Y, latent_prior_mean=prior_mean, latent_prior_var=np.square(sigma_t), \n",
    "                                    latent_mean=np.asarray(X_mean),  latent_var=np.square(sigma_t),\n",
    "                                    kernel={'name':'Matern32', 'ls':18.0, 'var':1.0})"
   ]
  },
  {
   "cell_type": "markdown",
   "metadata": {},
   "source": [
    "## Model without using Informative prior\n",
    "-  Only observed data points have been used."
   ]
  },
  {
   "cell_type": "code",
   "execution_count": 7,
   "metadata": {
    "collapsed": false
   },
   "outputs": [
    {
     "name": "stdout",
     "output_type": "stream",
     "text": [
      "Could not find signature for _expectation: <Gaussian, Matern32, NoneType, NoneType, NoneType>\n",
      "Could not find signature for _expectation: <Gaussian, Matern32, InducingPoints, NoneType, NoneType>\n",
      "Could not find signature for _expectation: <Gaussian, Matern32, InducingPoints, Matern32, InducingPoints>\n"
     ]
    },
    {
     "name": "stderr",
     "output_type": "stream",
     "text": [
      "/home/sumon/newInstall/GPflow/gpflow/expectations.py:110: UserWarning: Quadrature is used to calculate the expectation. This means that an analytical implementations is not available for the given combination.\n",
      "  warnings.warn(\"Quadrature is used to calculate the expectation. This means that \"\n"
     ]
    },
    {
     "name": "stdout",
     "output_type": "stream",
     "text": [
      "INFO:tensorflow:Optimization terminated with:\n",
      "  Message: b'CONVERGENCE: REL_REDUCTION_OF_F_<=_FACTR*EPSMCH'\n",
      "  Objective function value: 1799.898233\n",
      "  Number of iterations: 671\n",
      "  Number of functions evaluations: 698\n"
     ]
    }
   ],
   "source": [
    "np.random.seed(10)\n",
    "pt_np, var_np = GrandPrix.fit_model(data=Y, kernel={'name':'Matern32', 'ls':1.0, 'var':1.0}, display=True)"
   ]
  },
  {
   "cell_type": "markdown",
   "metadata": {},
   "source": [
    "## Visualize the results\n",
    "Estimated pseudotimes have been plotted against the actual cell capture times to visualize the correspondence between them. Each point represents a time point.\n",
    "\n",
    "-  The points are coloured according to the actual cell capture time. "
   ]
  },
  {
   "cell_type": "code",
   "execution_count": 8,
   "metadata": {
    "collapsed": false
   },
   "outputs": [],
   "source": [
    "%matplotlib inline\n",
    "from utils import plot\n",
    "from matplotlib import pyplot as plt"
   ]
  },
  {
   "cell_type": "code",
   "execution_count": 9,
   "metadata": {
    "collapsed": false
   },
   "outputs": [
    {
     "data": {
      "image/png": "[encoded data removed]",
      "text/plain": [
       "<matplotlib.figure.Figure at 0x7f88c094c198>"
      ]
     },
     "metadata": {},
     "output_type": "display_data"
    }
   ],
   "source": [
    "actual_capture_time = mData['capture.orig'].values\n",
    "fig, ax = plt.subplots(nrows=1, ncols=2, sharey=True, figsize=(16, 12))\n",
    "plt.subplot(2, 2, 1)\n",
    "plot('With infromative Prior', 'Pseudotime', 'Capture time', pt_wp, actual_capture_time, mData['capture'].values)\n",
    "plt.subplot(2, 2, 2)\n",
    "plot('Without infromative Prior', 'Pseudotime', 'Capture time', -pt_np, actual_capture_time, mData['capture'].values)"
   ]
  },
  {
   "cell_type": "markdown",
   "metadata": {},
   "source": [
    "## Comparison to the <a href=\"https://github.com/JohnReid/DeLorean\" target=\"_blank\" style=\"text-decoration:none;\"> DeLorean Model</a>\n",
    "* $20$ different initializations have been used\n",
    "* Models have been compared for varying number of inducing points in terms of -\n",
    "> * the rank correaltions between actual capture time and estimated pseudotimes\n",
    "> * the fitting times required "
   ]
  },
  {
   "cell_type": "code",
   "execution_count": 10,
   "metadata": {
    "collapsed": true
   },
   "outputs": [],
   "source": [
    "from utils import plot_comparison"
   ]
  },
  {
   "cell_type": "code",
   "execution_count": 11,
   "metadata": {
    "collapsed": false
   },
   "outputs": [
    {
     "data": {
      "image/png": "[encoded data removed]",
      "text/plain": [
       "<matplotlib.figure.Figure at 0x7f88c093e278>"
      ]
     },
     "metadata": {},
     "output_type": "display_data"
    }
   ],
   "source": [
    "plotDf = pd.read_csv('../data/Windram/WindramDeLorean.csv', index_col=[0])\n",
    "plot_comparison(plotDf)"
   ]
  },
  {
   "cell_type": "markdown",
   "metadata": {},
   "source": [
    "## Roughness\n",
    "Roughness for a particular gene is defined in <a href=\"https://www.ncbi.nlm.nih.gov/pubmed/27318198\" target=\"_blank\">DeLorean</a> as \n",
    "$$\\frac{1}{\\sigma_g} \\sqrt{ \\frac{1}{C-1} \n",
    "\\sum_{c=1}^{C-1} \\left(x_{g, z_c} - x_{g, z_{c+1}} \\right)^2 }$$\n",
    "where\n",
    "* $\\sigma_g$ the standard deviation of gene expression\n",
    "* $x_{g, z_c}$ is the gene expression for gene $g$ at pseudotime order $z_c$\n",
    "\n",
    "This metric measures the smoothness of the gene expression profile by looking at the differences of consecutive measurements. Smaller values indicate a smoother response.\n",
    "\n",
    "The average roughness statistics for 50 heldout genes using different number of inducing points have been noted. The green bars are proportional to the values shown. "
   ]
  },
  {
   "cell_type": "code",
   "execution_count": 12,
   "metadata": {
    "collapsed": false
   },
   "outputs": [
    {
     "data": {
      "text/html": [
       "<style  type=\"text/css\" >\n",
       "    #T_9542c422_4d4b_11e8_bf86_5cf9dd740fc7row0_col0 {\n",
       "            width:  10em;\n",
       "             height:  80%;\n",
       "        }    #T_9542c422_4d4b_11e8_bf86_5cf9dd740fc7row0_col1 {\n",
       "            width:  10em;\n",
       "             height:  80%;\n",
       "            background:  linear-gradient(90deg,lightgreen 100.0%, transparent 0%);\n",
       "        }    #T_9542c422_4d4b_11e8_bf86_5cf9dd740fc7row1_col0 {\n",
       "            width:  10em;\n",
       "             height:  80%;\n",
       "            background:  linear-gradient(90deg,lightgreen 11.1%, transparent 0%);\n",
       "        }    #T_9542c422_4d4b_11e8_bf86_5cf9dd740fc7row1_col1 {\n",
       "            width:  10em;\n",
       "             height:  80%;\n",
       "            background:  linear-gradient(90deg,lightgreen 22.3%, transparent 0%);\n",
       "        }    #T_9542c422_4d4b_11e8_bf86_5cf9dd740fc7row2_col0 {\n",
       "            width:  10em;\n",
       "             height:  80%;\n",
       "            background:  linear-gradient(90deg,lightgreen 22.2%, transparent 0%);\n",
       "        }    #T_9542c422_4d4b_11e8_bf86_5cf9dd740fc7row2_col1 {\n",
       "            width:  10em;\n",
       "             height:  80%;\n",
       "            background:  linear-gradient(90deg,lightgreen 10.9%, transparent 0%);\n",
       "        }    #T_9542c422_4d4b_11e8_bf86_5cf9dd740fc7row3_col0 {\n",
       "            width:  10em;\n",
       "             height:  80%;\n",
       "            background:  linear-gradient(90deg,lightgreen 33.3%, transparent 0%);\n",
       "        }    #T_9542c422_4d4b_11e8_bf86_5cf9dd740fc7row3_col1 {\n",
       "            width:  10em;\n",
       "             height:  80%;\n",
       "        }    #T_9542c422_4d4b_11e8_bf86_5cf9dd740fc7row4_col0 {\n",
       "            width:  10em;\n",
       "             height:  80%;\n",
       "            background:  linear-gradient(90deg,lightgreen 44.4%, transparent 0%);\n",
       "        }    #T_9542c422_4d4b_11e8_bf86_5cf9dd740fc7row4_col1 {\n",
       "            width:  10em;\n",
       "             height:  80%;\n",
       "        }    #T_9542c422_4d4b_11e8_bf86_5cf9dd740fc7row5_col0 {\n",
       "            width:  10em;\n",
       "             height:  80%;\n",
       "            background:  linear-gradient(90deg,lightgreen 55.6%, transparent 0%);\n",
       "        }    #T_9542c422_4d4b_11e8_bf86_5cf9dd740fc7row5_col1 {\n",
       "            width:  10em;\n",
       "             height:  80%;\n",
       "        }    #T_9542c422_4d4b_11e8_bf86_5cf9dd740fc7row6_col0 {\n",
       "            width:  10em;\n",
       "             height:  80%;\n",
       "            background:  linear-gradient(90deg,lightgreen 66.7%, transparent 0%);\n",
       "        }    #T_9542c422_4d4b_11e8_bf86_5cf9dd740fc7row6_col1 {\n",
       "            width:  10em;\n",
       "             height:  80%;\n",
       "        }    #T_9542c422_4d4b_11e8_bf86_5cf9dd740fc7row7_col0 {\n",
       "            width:  10em;\n",
       "             height:  80%;\n",
       "            background:  linear-gradient(90deg,lightgreen 77.8%, transparent 0%);\n",
       "        }    #T_9542c422_4d4b_11e8_bf86_5cf9dd740fc7row7_col1 {\n",
       "            width:  10em;\n",
       "             height:  80%;\n",
       "        }    #T_9542c422_4d4b_11e8_bf86_5cf9dd740fc7row8_col0 {\n",
       "            width:  10em;\n",
       "             height:  80%;\n",
       "            background:  linear-gradient(90deg,lightgreen 88.9%, transparent 0%);\n",
       "        }    #T_9542c422_4d4b_11e8_bf86_5cf9dd740fc7row8_col1 {\n",
       "            width:  10em;\n",
       "             height:  80%;\n",
       "        }    #T_9542c422_4d4b_11e8_bf86_5cf9dd740fc7row9_col0 {\n",
       "            width:  10em;\n",
       "             height:  80%;\n",
       "            background:  linear-gradient(90deg,lightgreen 100.0%, transparent 0%);\n",
       "        }    #T_9542c422_4d4b_11e8_bf86_5cf9dd740fc7row9_col1 {\n",
       "            width:  10em;\n",
       "             height:  80%;\n",
       "        }</style>  \n",
       "<table id=\"T_9542c422_4d4b_11e8_bf86_5cf9dd740fc7\" > \n",
       "<thead>    <tr> \n",
       "        <th class=\"blank level0\" ></th> \n",
       "        <th class=\"col_heading level0 col0\" >inducingPoints</th> \n",
       "        <th class=\"col_heading level0 col1\" >GPLVM_avg_roughness</th> \n",
       "    </tr></thead> \n",
       "<tbody>    <tr> \n",
       "        <th id=\"T_9542c422_4d4b_11e8_bf86_5cf9dd740fc7level0_row0\" class=\"row_heading level0 row0\" >1</th> \n",
       "        <td id=\"T_9542c422_4d4b_11e8_bf86_5cf9dd740fc7row0_col0\" class=\"data row0 col0\" >4</td> \n",
       "        <td id=\"T_9542c422_4d4b_11e8_bf86_5cf9dd740fc7row0_col1\" class=\"data row0 col1\" >0.73674</td> \n",
       "    </tr>    <tr> \n",
       "        <th id=\"T_9542c422_4d4b_11e8_bf86_5cf9dd740fc7level0_row1\" class=\"row_heading level0 row1\" >2</th> \n",
       "        <td id=\"T_9542c422_4d4b_11e8_bf86_5cf9dd740fc7row1_col0\" class=\"data row1 col0\" >6</td> \n",
       "        <td id=\"T_9542c422_4d4b_11e8_bf86_5cf9dd740fc7row1_col1\" class=\"data row1 col1\" >0.712965</td> \n",
       "    </tr>    <tr> \n",
       "        <th id=\"T_9542c422_4d4b_11e8_bf86_5cf9dd740fc7level0_row2\" class=\"row_heading level0 row2\" >3</th> \n",
       "        <td id=\"T_9542c422_4d4b_11e8_bf86_5cf9dd740fc7row2_col0\" class=\"data row2 col0\" >8</td> \n",
       "        <td id=\"T_9542c422_4d4b_11e8_bf86_5cf9dd740fc7row2_col1\" class=\"data row2 col1\" >0.709486</td> \n",
       "    </tr>    <tr> \n",
       "        <th id=\"T_9542c422_4d4b_11e8_bf86_5cf9dd740fc7level0_row3\" class=\"row_heading level0 row3\" >4</th> \n",
       "        <td id=\"T_9542c422_4d4b_11e8_bf86_5cf9dd740fc7row3_col0\" class=\"data row3 col0\" >10</td> \n",
       "        <td id=\"T_9542c422_4d4b_11e8_bf86_5cf9dd740fc7row3_col1\" class=\"data row3 col1\" >0.706149</td> \n",
       "    </tr>    <tr> \n",
       "        <th id=\"T_9542c422_4d4b_11e8_bf86_5cf9dd740fc7level0_row4\" class=\"row_heading level0 row4\" >5</th> \n",
       "        <td id=\"T_9542c422_4d4b_11e8_bf86_5cf9dd740fc7row4_col0\" class=\"data row4 col0\" >12</td> \n",
       "        <td id=\"T_9542c422_4d4b_11e8_bf86_5cf9dd740fc7row4_col1\" class=\"data row4 col1\" >0.706149</td> \n",
       "    </tr>    <tr> \n",
       "        <th id=\"T_9542c422_4d4b_11e8_bf86_5cf9dd740fc7level0_row5\" class=\"row_heading level0 row5\" >6</th> \n",
       "        <td id=\"T_9542c422_4d4b_11e8_bf86_5cf9dd740fc7row5_col0\" class=\"data row5 col0\" >14</td> \n",
       "        <td id=\"T_9542c422_4d4b_11e8_bf86_5cf9dd740fc7row5_col1\" class=\"data row5 col1\" >0.706149</td> \n",
       "    </tr>    <tr> \n",
       "        <th id=\"T_9542c422_4d4b_11e8_bf86_5cf9dd740fc7level0_row6\" class=\"row_heading level0 row6\" >7</th> \n",
       "        <td id=\"T_9542c422_4d4b_11e8_bf86_5cf9dd740fc7row6_col0\" class=\"data row6 col0\" >16</td> \n",
       "        <td id=\"T_9542c422_4d4b_11e8_bf86_5cf9dd740fc7row6_col1\" class=\"data row6 col1\" >0.706149</td> \n",
       "    </tr>    <tr> \n",
       "        <th id=\"T_9542c422_4d4b_11e8_bf86_5cf9dd740fc7level0_row7\" class=\"row_heading level0 row7\" >8</th> \n",
       "        <td id=\"T_9542c422_4d4b_11e8_bf86_5cf9dd740fc7row7_col0\" class=\"data row7 col0\" >18</td> \n",
       "        <td id=\"T_9542c422_4d4b_11e8_bf86_5cf9dd740fc7row7_col1\" class=\"data row7 col1\" >0.706149</td> \n",
       "    </tr>    <tr> \n",
       "        <th id=\"T_9542c422_4d4b_11e8_bf86_5cf9dd740fc7level0_row8\" class=\"row_heading level0 row8\" >9</th> \n",
       "        <td id=\"T_9542c422_4d4b_11e8_bf86_5cf9dd740fc7row8_col0\" class=\"data row8 col0\" >20</td> \n",
       "        <td id=\"T_9542c422_4d4b_11e8_bf86_5cf9dd740fc7row8_col1\" class=\"data row8 col1\" >0.706149</td> \n",
       "    </tr>    <tr> \n",
       "        <th id=\"T_9542c422_4d4b_11e8_bf86_5cf9dd740fc7level0_row9\" class=\"row_heading level0 row9\" >10</th> \n",
       "        <td id=\"T_9542c422_4d4b_11e8_bf86_5cf9dd740fc7row9_col0\" class=\"data row9 col0\" >22</td> \n",
       "        <td id=\"T_9542c422_4d4b_11e8_bf86_5cf9dd740fc7row9_col1\" class=\"data row9 col1\" >0.706149</td> \n",
       "    </tr></tbody> \n",
       "</table> "
      ],
      "text/plain": [
       "<pandas.io.formats.style.Styler at 0x7f88d00b3128>"
      ]
     },
     "execution_count": 12,
     "metadata": {},
     "output_type": "execute_result"
    }
   ],
   "source": [
    "plotDf[['inducingPoints','GPLVM_avg_roughness']].style.bar(color='lightgreen')"
   ]
  }
 ],
 "metadata": {
  "anaconda-cloud": {},
  "kernelspec": {
   "display_name": "Python [conda env:tensor_15]",
   "language": "python",
   "name": "conda-env-tensor_15-py"
  },
  "language_info": {
   "codemirror_mode": {
    "name": "ipython",
    "version": 3
   },
   "file_extension": ".py",
   "mimetype": "text/x-python",
   "name": "python",
   "nbconvert_exporter": "python",
   "pygments_lexer": "ipython3",
   "version": "3.5.4"
  }
 },
 "nbformat": 4,
 "nbformat_minor": 1
}
